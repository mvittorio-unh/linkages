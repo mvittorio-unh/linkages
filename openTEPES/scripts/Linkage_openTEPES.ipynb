{
 "cells": [
  {
   "attachments": {},
   "cell_type": "markdown",
   "metadata": {},
   "source": [
    "## Linkage of openTEPES to the openENTRANCE Platform"
   ]
  },
  {
   "cell_type": "code",
   "execution_count": 1,
   "metadata": {},
   "outputs": [
    {
     "data": {
      "application/javascript": "IPython.OutputArea.prototype._should_scroll = function(lines) { return false; }",
      "text/plain": [
       "<IPython.core.display.Javascript object>"
      ]
     },
     "metadata": {},
     "output_type": "display_data"
    },
    {
     "name": "stderr",
     "output_type": "stream",
     "text": [
      "pyam - INFO: Running in a notebook, setting `pyam` logging level to `logging.INFO` and adding stderr handler\n",
      "pyam.iiasa - INFO: Setting IIASA-connection configuration file: C:\\Users\\Erik AQ\\.local\\pyam\\iiasa.yaml\n"
     ]
    }
   ],
   "source": [
    "import pyam\n",
    "\n",
    "# set user name to get access to the scenario explorer\n",
    "user_name = ''\n",
    "user_password = ''\n",
    "\n",
    "pyam.iiasa.set_config(user_name, user_password)"
   ]
  },
  {
   "attachments": {},
   "cell_type": "markdown",
   "metadata": {},
   "source": [
    "## Tool 1: Reading data from openENTRANCE Platform"
   ]
  },
  {
   "attachments": {},
   "cell_type": "markdown",
   "metadata": {},
   "source": [
    "### Definition: Model, scenario and region name"
   ]
  },
  {
   "cell_type": "code",
   "execution_count": 2,
   "metadata": {},
   "outputs": [],
   "source": [
    "import pyam \n",
    "\n",
    "model_name = 'GENeSYS-MOD 2.9.0-oe'\n",
    "scenario_name = 'Societal Commitment 1.0'\n",
    "region_name = 'Spain'"
   ]
  },
  {
   "attachments": {},
   "cell_type": "markdown",
   "metadata": {},
   "source": [
    "### Connection to the platform and saving variables as pandas dataframe"
   ]
  },
  {
   "cell_type": "code",
   "execution_count": 3,
   "metadata": {},
   "outputs": [
    {
     "name": "stderr",
     "output_type": "stream",
     "text": [
      "pyam.iiasa - INFO: You are connected to the IXSE_OPENENTRANCE scenario explorer hosted by IIASA. If you use this data in any published format, please cite the data as provided in the explorer guidelines: https://data.ene.iiasa.ac.at/openentrance/#/about\n",
      "pyam.iiasa - INFO: You are connected as user `erikfilias`\n",
      "pyam.iiasa - INFO: You are connected to the IXSE_OPENENTRANCE scenario explorer hosted by IIASA. If you use this data in any published format, please cite the data as provided in the explorer guidelines: https://data.ene.iiasa.ac.at/openentrance/#/about\n",
      "pyam.iiasa - INFO: You are connected as user `erikfilias`\n"
     ]
    },
    {
     "data": {
      "text/html": [
       "<div>\n",
       "<style scoped>\n",
       "    .dataframe tbody tr th:only-of-type {\n",
       "        vertical-align: middle;\n",
       "    }\n",
       "\n",
       "    .dataframe tbody tr th {\n",
       "        vertical-align: top;\n",
       "    }\n",
       "\n",
       "    .dataframe thead th {\n",
       "        text-align: right;\n",
       "    }\n",
       "</style>\n",
       "<table border=\"1\" class=\"dataframe\">\n",
       "  <thead>\n",
       "    <tr style=\"text-align: right;\">\n",
       "      <th></th>\n",
       "      <th>model</th>\n",
       "      <th>scenario</th>\n",
       "      <th>region</th>\n",
       "      <th>variable</th>\n",
       "      <th>unit</th>\n",
       "      <th>year</th>\n",
       "      <th>value</th>\n",
       "      <th>exclude</th>\n",
       "      <th>version</th>\n",
       "    </tr>\n",
       "  </thead>\n",
       "  <tbody>\n",
       "    <tr>\n",
       "      <th>0</th>\n",
       "      <td>GENeSYS-MOD 2.9.0-oe</td>\n",
       "      <td>Societal Commitment 1.0</td>\n",
       "      <td>Spain</td>\n",
       "      <td>Capacity|Electricity|Biomass</td>\n",
       "      <td>GW</td>\n",
       "      <td>2030</td>\n",
       "      <td>0.849037</td>\n",
       "      <td>False</td>\n",
       "      <td>1</td>\n",
       "    </tr>\n",
       "    <tr>\n",
       "      <th>1</th>\n",
       "      <td>GENeSYS-MOD 2.9.0-oe</td>\n",
       "      <td>Societal Commitment 1.0</td>\n",
       "      <td>Spain</td>\n",
       "      <td>Capacity|Electricity|Coal</td>\n",
       "      <td>GW</td>\n",
       "      <td>2030</td>\n",
       "      <td>4.266979</td>\n",
       "      <td>False</td>\n",
       "      <td>1</td>\n",
       "    </tr>\n",
       "    <tr>\n",
       "      <th>2</th>\n",
       "      <td>GENeSYS-MOD 2.9.0-oe</td>\n",
       "      <td>Societal Commitment 1.0</td>\n",
       "      <td>Spain</td>\n",
       "      <td>Capacity|Electricity|Gas</td>\n",
       "      <td>GW</td>\n",
       "      <td>2030</td>\n",
       "      <td>31.219368</td>\n",
       "      <td>False</td>\n",
       "      <td>1</td>\n",
       "    </tr>\n",
       "    <tr>\n",
       "      <th>3</th>\n",
       "      <td>GENeSYS-MOD 2.9.0-oe</td>\n",
       "      <td>Societal Commitment 1.0</td>\n",
       "      <td>Spain</td>\n",
       "      <td>Capacity|Electricity|Hydro</td>\n",
       "      <td>GW</td>\n",
       "      <td>2030</td>\n",
       "      <td>32.492324</td>\n",
       "      <td>False</td>\n",
       "      <td>1</td>\n",
       "    </tr>\n",
       "    <tr>\n",
       "      <th>4</th>\n",
       "      <td>GENeSYS-MOD 2.9.0-oe</td>\n",
       "      <td>Societal Commitment 1.0</td>\n",
       "      <td>Spain</td>\n",
       "      <td>Capacity|Electricity|Nuclear</td>\n",
       "      <td>GW</td>\n",
       "      <td>2030</td>\n",
       "      <td>7.582040</td>\n",
       "      <td>False</td>\n",
       "      <td>1</td>\n",
       "    </tr>\n",
       "  </tbody>\n",
       "</table>\n",
       "</div>"
      ],
      "text/plain": [
       "                  model                 scenario region  \\\n",
       "0  GENeSYS-MOD 2.9.0-oe  Societal Commitment 1.0  Spain   \n",
       "1  GENeSYS-MOD 2.9.0-oe  Societal Commitment 1.0  Spain   \n",
       "2  GENeSYS-MOD 2.9.0-oe  Societal Commitment 1.0  Spain   \n",
       "3  GENeSYS-MOD 2.9.0-oe  Societal Commitment 1.0  Spain   \n",
       "4  GENeSYS-MOD 2.9.0-oe  Societal Commitment 1.0  Spain   \n",
       "\n",
       "                       variable unit  year      value  exclude version  \n",
       "0  Capacity|Electricity|Biomass   GW  2030   0.849037    False       1  \n",
       "1     Capacity|Electricity|Coal   GW  2030   4.266979    False       1  \n",
       "2      Capacity|Electricity|Gas   GW  2030  31.219368    False       1  \n",
       "3    Capacity|Electricity|Hydro   GW  2030  32.492324    False       1  \n",
       "4  Capacity|Electricity|Nuclear   GW  2030   7.582040    False       1  "
      ]
     },
     "execution_count": 3,
     "metadata": {},
     "output_type": "execute_result"
    }
   ],
   "source": [
    "pyam.iiasa.Connection('openentrance')\n",
    "# Reading data from openENTRANCE Platform\n",
    "df = pyam.read_iiasa('openentrance', model = model_name, scenario = scenario_name)\n",
    "#Power generation capacities for Spain\n",
    "gen_cap = df.filter(region = 'Spain',variable = 'Capacity|Electricity|*', year = 2030).as_pandas()\n",
    "gen_cap.head()"
   ]
  },
  {
   "attachments": {},
   "cell_type": "markdown",
   "metadata": {},
   "source": [
    "## Tool 1: Reading data from openENTRANCE Platform"
   ]
  },
  {
   "cell_type": "code",
   "execution_count": 4,
   "metadata": {},
   "outputs": [
    {
     "name": "stderr",
     "output_type": "stream",
     "text": [
      "pyam.iiasa - INFO: You are connected to the IXSE_OPENENTRANCE scenario explorer hosted by IIASA. If you use this data in any published format, please cite the data as provided in the explorer guidelines: https://data.ene.iiasa.ac.at/openentrance/#/about\n",
      "pyam.iiasa - INFO: You are connected as user `erikfilias`\n",
      "pyam.iiasa - INFO: You are connected to the IXSE_OPENENTRANCE scenario explorer hosted by IIASA. If you use this data in any published format, please cite the data as provided in the explorer guidelines: https://data.ene.iiasa.ac.at/openentrance/#/about\n",
      "pyam.iiasa - INFO: You are connected as user `erikfilias`\n"
     ]
    },
    {
     "data": {
      "text/html": [
       "<div>\n",
       "<style scoped>\n",
       "    .dataframe tbody tr th:only-of-type {\n",
       "        vertical-align: middle;\n",
       "    }\n",
       "\n",
       "    .dataframe tbody tr th {\n",
       "        vertical-align: top;\n",
       "    }\n",
       "\n",
       "    .dataframe thead th {\n",
       "        text-align: right;\n",
       "    }\n",
       "</style>\n",
       "<table border=\"1\" class=\"dataframe\">\n",
       "  <thead>\n",
       "    <tr style=\"text-align: right;\">\n",
       "      <th></th>\n",
       "      <th>model</th>\n",
       "      <th>scenario</th>\n",
       "      <th>region</th>\n",
       "      <th>variable</th>\n",
       "      <th>unit</th>\n",
       "      <th>year</th>\n",
       "      <th>subannual</th>\n",
       "      <th>value</th>\n",
       "      <th>exclude</th>\n",
       "      <th>version</th>\n",
       "    </tr>\n",
       "  </thead>\n",
       "  <tbody>\n",
       "    <tr>\n",
       "      <th>0</th>\n",
       "      <td>openTEPES 1.6.32</td>\n",
       "      <td>Baseline|SEP2030oE</td>\n",
       "      <td>ES11&gt;ES12</td>\n",
       "      <td>Maximum Flow|Electricity|Grid</td>\n",
       "      <td>MW</td>\n",
       "      <td>2030</td>\n",
       "      <td>January</td>\n",
       "      <td>50000.0</td>\n",
       "      <td>False</td>\n",
       "      <td>2</td>\n",
       "    </tr>\n",
       "    <tr>\n",
       "      <th>1</th>\n",
       "      <td>openTEPES 1.6.32</td>\n",
       "      <td>Baseline|SEP2030oE</td>\n",
       "      <td>ES11&gt;ES41</td>\n",
       "      <td>Maximum Flow|Electricity|Grid</td>\n",
       "      <td>MW</td>\n",
       "      <td>2030</td>\n",
       "      <td>January</td>\n",
       "      <td>50000.0</td>\n",
       "      <td>False</td>\n",
       "      <td>2</td>\n",
       "    </tr>\n",
       "    <tr>\n",
       "      <th>2</th>\n",
       "      <td>openTEPES 1.6.32</td>\n",
       "      <td>Baseline|SEP2030oE</td>\n",
       "      <td>ES12&gt;ES13</td>\n",
       "      <td>Maximum Flow|Electricity|Grid</td>\n",
       "      <td>MW</td>\n",
       "      <td>2030</td>\n",
       "      <td>January</td>\n",
       "      <td>50000.0</td>\n",
       "      <td>False</td>\n",
       "      <td>2</td>\n",
       "    </tr>\n",
       "    <tr>\n",
       "      <th>3</th>\n",
       "      <td>openTEPES 1.6.32</td>\n",
       "      <td>Baseline|SEP2030oE</td>\n",
       "      <td>ES12&gt;ES41</td>\n",
       "      <td>Maximum Flow|Electricity|Grid</td>\n",
       "      <td>MW</td>\n",
       "      <td>2030</td>\n",
       "      <td>January</td>\n",
       "      <td>50000.0</td>\n",
       "      <td>False</td>\n",
       "      <td>2</td>\n",
       "    </tr>\n",
       "    <tr>\n",
       "      <th>4</th>\n",
       "      <td>openTEPES 1.6.32</td>\n",
       "      <td>Baseline|SEP2030oE</td>\n",
       "      <td>ES13&gt;ES21</td>\n",
       "      <td>Maximum Flow|Electricity|Grid</td>\n",
       "      <td>MW</td>\n",
       "      <td>2030</td>\n",
       "      <td>January</td>\n",
       "      <td>50000.0</td>\n",
       "      <td>False</td>\n",
       "      <td>2</td>\n",
       "    </tr>\n",
       "  </tbody>\n",
       "</table>\n",
       "</div>"
      ],
      "text/plain": [
       "              model            scenario     region  \\\n",
       "0  openTEPES 1.6.32  Baseline|SEP2030oE  ES11>ES12   \n",
       "1  openTEPES 1.6.32  Baseline|SEP2030oE  ES11>ES41   \n",
       "2  openTEPES 1.6.32  Baseline|SEP2030oE  ES12>ES13   \n",
       "3  openTEPES 1.6.32  Baseline|SEP2030oE  ES12>ES41   \n",
       "4  openTEPES 1.6.32  Baseline|SEP2030oE  ES13>ES21   \n",
       "\n",
       "                        variable unit  year subannual    value  exclude  \\\n",
       "0  Maximum Flow|Electricity|Grid   MW  2030   January  50000.0    False   \n",
       "1  Maximum Flow|Electricity|Grid   MW  2030   January  50000.0    False   \n",
       "2  Maximum Flow|Electricity|Grid   MW  2030   January  50000.0    False   \n",
       "3  Maximum Flow|Electricity|Grid   MW  2030   January  50000.0    False   \n",
       "4  Maximum Flow|Electricity|Grid   MW  2030   January  50000.0    False   \n",
       "\n",
       "  version  \n",
       "0       2  \n",
       "1       2  \n",
       "2       2  \n",
       "3       2  \n",
       "4       2  "
      ]
     },
     "execution_count": 4,
     "metadata": {},
     "output_type": "execute_result"
    }
   ],
   "source": [
    "pyam.iiasa.Connection('openentrance')\n",
    "# Reading data from openENTRANCE Platform\n",
    "df = pyam.read_iiasa('openentrance', model = 'openTEPES 1.6.32', scenario = 'Baseline|SEP2030oE')\n",
    "#Power transmission capacities for Spain\n",
    "line_cap = df.as_pandas()\n",
    "line_cap.head()"
   ]
  },
  {
   "attachments": {},
   "cell_type": "markdown",
   "metadata": {},
   "source": [
    "## Tool 2: Data tranformation to openTEPES format"
   ]
  },
  {
   "cell_type": "code",
   "execution_count": 5,
   "metadata": {},
   "outputs": [],
   "source": [
    "import pandas as pd\n",
    "\n",
    "model_name    = line_cap['model'].unique()\n",
    "scenario_name = gen_cap['scenario'].unique()\n",
    "\n",
    "gen_variable  = gen_cap['variable'].unique()\n",
    "gen_variable  = pd.DataFrame(gen_variable)\n",
    "gen_variable  = gen_variable[0].str.split('|', expand = True)\n",
    "gen_dict      = gen_variable[2]\n",
    "\n",
    "line_variable = line_cap['variable'].unique()\n",
    "line_region   = line_cap['region']\n",
    "line_region   = pd.DataFrame(line_region)\n",
    "line_region   = line_region['region'].str.split('>', expand = True)"
   ]
  },
  {
   "attachments": {},
   "cell_type": "markdown",
   "metadata": {},
   "source": [
    "### Power Generation Data to openTEPES format"
   ]
  },
  {
   "cell_type": "code",
   "execution_count": 6,
   "metadata": {},
   "outputs": [],
   "source": [
    "import numpy\n",
    "a = numpy.zeros(shape=(len(gen_dict.values),28))\n",
    "dfGeneration = pd.DataFrame(a,columns=['Node','Technology','StorageType','MustRun','MaximumPower','MinimumPower'\n",
    "                                       ,'MaximumCharge','InitialStorage','MaximumStorage','MinimumStorage'\n",
    "                                       ,'Efficiency','EFOR','RampUp','RampDown'\n",
    "                                       ,'UpTime','DownTime','FuelCost','LinearTerm','ConstantTerm'\n",
    "                                       ,'OMVariableCost','StartUpCost','ShutDownCost','CO2EmissionRate','FixedCost'\n",
    "                                       ,'FixedChargeRate','BinaryInvestment','MaximumReactivePower'\n",
    "                                       ,'MinimumReactivePower'])\n",
    "dfGeneration['Node']         = gen_cap['region']\n",
    "dfGeneration['Technology']   = gen_dict.values\n",
    "dfGeneration['MaximumPower'] = gen_cap['value']*1e3\n",
    "dfGeneration = dfGeneration.set_index(gen_dict.values)\n",
    "dfGeneration.to_csv('oT_Data_Generation_TEST.csv', sep=',')"
   ]
  },
  {
   "attachments": {},
   "cell_type": "markdown",
   "metadata": {},
   "source": [
    "### Transmission Network Data to openTEPES format"
   ]
  },
  {
   "cell_type": "code",
   "execution_count": 7,
   "metadata": {},
   "outputs": [],
   "source": [
    "import numpy\n",
    "a = numpy.zeros(shape=(len(line_region),16))\n",
    "dfNetwork = pd.DataFrame(a,columns=['From','To','Circuit','LineType','Voltage','LossFactor','Reactance','TTC'\n",
    "                                    ,'SecurityFactor','FixedCost','FixedChargeRate','BinaryInvestment'\n",
    "                                    ,'Resistance','Susceptance','Tap','Converter'])\n",
    "dfNetwork['From'   ]         = line_region[0]\n",
    "dfNetwork['To'     ]         = line_region[1]\n",
    "dfNetwork['Circuit']         = 'cc1'\n",
    "dfNetwork['TTC'    ]         = line_cap['value']\n",
    "dfNetwork                    = dfNetwork.set_index(['From', 'To', 'Circuit'])\n",
    "dfNetwork                    = dfNetwork.rename_axis([None, None, None], axis=0)\n",
    "dfNetwork.to_csv('oT_Data_Network_TEST.csv', sep=',')"
   ]
  },
  {
   "attachments": {},
   "cell_type": "markdown",
   "metadata": {},
   "source": [
    "## Tool 3: Write to IAMC format"
   ]
  },
  {
   "cell_type": "code",
   "execution_count": 8,
   "metadata": {},
   "outputs": [],
   "source": [
    "model_name    = 'openTEPES 1.6.32'\n",
    "scenario_name = 'Baseline|SEP2030oE'\n",
    "variable_name = 'Maximum Flow|Electricity|Grid'\n",
    "unit_name     = 'MW'\n",
    "year_name     = 2030\n",
    "subannual_name= 'January'"
   ]
  },
  {
   "cell_type": "code",
   "execution_count": 9,
   "metadata": {},
   "outputs": [],
   "source": [
    "dfNetworkExp  = pd.read_csv('oT_Data_Network_TEST.csv')"
   ]
  },
  {
   "cell_type": "code",
   "execution_count": 10,
   "metadata": {},
   "outputs": [],
   "source": [
    "region_name   = dfNetworkExp['Unnamed: 0']+'>'+dfNetworkExp['Unnamed: 1']"
   ]
  },
  {
   "cell_type": "code",
   "execution_count": 11,
   "metadata": {},
   "outputs": [],
   "source": [
    "def write_to_IAMCformat(model, scenario, region, variable, unit, year, subannual, value):\n",
    "    _df = pd.DataFrame({'model': model,\n",
    "                       'scenario': scenario,\n",
    "                       'region': region,\n",
    "                       'variable': variable,\n",
    "                       'unit': unit,\n",
    "                       'year': year,\n",
    "                       'subannual': subannual,\n",
    "                       'value': value,})\n",
    "    return _df"
   ]
  },
  {
   "cell_type": "code",
   "execution_count": 12,
   "metadata": {},
   "outputs": [],
   "source": [
    "dfNetwork_IAMC = write_to_IAMCformat(model_name, scenario_name, \n",
    "                                     region_name, variable_name, unit_name, year_name, subannual_name, dfNetworkExp['TTC'])"
   ]
  },
  {
   "cell_type": "code",
   "execution_count": 13,
   "metadata": {},
   "outputs": [
    {
     "data": {
      "text/html": [
       "<div>\n",
       "<style scoped>\n",
       "    .dataframe tbody tr th:only-of-type {\n",
       "        vertical-align: middle;\n",
       "    }\n",
       "\n",
       "    .dataframe tbody tr th {\n",
       "        vertical-align: top;\n",
       "    }\n",
       "\n",
       "    .dataframe thead th {\n",
       "        text-align: right;\n",
       "    }\n",
       "</style>\n",
       "<table border=\"1\" class=\"dataframe\">\n",
       "  <thead>\n",
       "    <tr style=\"text-align: right;\">\n",
       "      <th></th>\n",
       "      <th>model</th>\n",
       "      <th>scenario</th>\n",
       "      <th>region</th>\n",
       "      <th>variable</th>\n",
       "      <th>unit</th>\n",
       "      <th>year</th>\n",
       "      <th>subannual</th>\n",
       "      <th>value</th>\n",
       "    </tr>\n",
       "  </thead>\n",
       "  <tbody>\n",
       "    <tr>\n",
       "      <th>0</th>\n",
       "      <td>openTEPES 1.6.32</td>\n",
       "      <td>Baseline|SEP2030oE</td>\n",
       "      <td>ES11&gt;ES12</td>\n",
       "      <td>Maximum Flow|Electricity|Grid</td>\n",
       "      <td>MW</td>\n",
       "      <td>2030</td>\n",
       "      <td>January</td>\n",
       "      <td>50000.0</td>\n",
       "    </tr>\n",
       "    <tr>\n",
       "      <th>1</th>\n",
       "      <td>openTEPES 1.6.32</td>\n",
       "      <td>Baseline|SEP2030oE</td>\n",
       "      <td>ES11&gt;ES41</td>\n",
       "      <td>Maximum Flow|Electricity|Grid</td>\n",
       "      <td>MW</td>\n",
       "      <td>2030</td>\n",
       "      <td>January</td>\n",
       "      <td>50000.0</td>\n",
       "    </tr>\n",
       "    <tr>\n",
       "      <th>2</th>\n",
       "      <td>openTEPES 1.6.32</td>\n",
       "      <td>Baseline|SEP2030oE</td>\n",
       "      <td>ES12&gt;ES13</td>\n",
       "      <td>Maximum Flow|Electricity|Grid</td>\n",
       "      <td>MW</td>\n",
       "      <td>2030</td>\n",
       "      <td>January</td>\n",
       "      <td>50000.0</td>\n",
       "    </tr>\n",
       "    <tr>\n",
       "      <th>3</th>\n",
       "      <td>openTEPES 1.6.32</td>\n",
       "      <td>Baseline|SEP2030oE</td>\n",
       "      <td>ES12&gt;ES41</td>\n",
       "      <td>Maximum Flow|Electricity|Grid</td>\n",
       "      <td>MW</td>\n",
       "      <td>2030</td>\n",
       "      <td>January</td>\n",
       "      <td>50000.0</td>\n",
       "    </tr>\n",
       "    <tr>\n",
       "      <th>4</th>\n",
       "      <td>openTEPES 1.6.32</td>\n",
       "      <td>Baseline|SEP2030oE</td>\n",
       "      <td>ES13&gt;ES21</td>\n",
       "      <td>Maximum Flow|Electricity|Grid</td>\n",
       "      <td>MW</td>\n",
       "      <td>2030</td>\n",
       "      <td>January</td>\n",
       "      <td>50000.0</td>\n",
       "    </tr>\n",
       "  </tbody>\n",
       "</table>\n",
       "</div>"
      ],
      "text/plain": [
       "              model            scenario     region  \\\n",
       "0  openTEPES 1.6.32  Baseline|SEP2030oE  ES11>ES12   \n",
       "1  openTEPES 1.6.32  Baseline|SEP2030oE  ES11>ES41   \n",
       "2  openTEPES 1.6.32  Baseline|SEP2030oE  ES12>ES13   \n",
       "3  openTEPES 1.6.32  Baseline|SEP2030oE  ES12>ES41   \n",
       "4  openTEPES 1.6.32  Baseline|SEP2030oE  ES13>ES21   \n",
       "\n",
       "                        variable unit  year subannual    value  \n",
       "0  Maximum Flow|Electricity|Grid   MW  2030   January  50000.0  \n",
       "1  Maximum Flow|Electricity|Grid   MW  2030   January  50000.0  \n",
       "2  Maximum Flow|Electricity|Grid   MW  2030   January  50000.0  \n",
       "3  Maximum Flow|Electricity|Grid   MW  2030   January  50000.0  \n",
       "4  Maximum Flow|Electricity|Grid   MW  2030   January  50000.0  "
      ]
     },
     "execution_count": 13,
     "metadata": {},
     "output_type": "execute_result"
    }
   ],
   "source": [
    "dfNetwork_IAMC.head()"
   ]
  },
  {
   "attachments": {},
   "cell_type": "markdown",
   "metadata": {},
   "source": [
    "## Tool 4: Validating the output files using the validate function from nomenclature"
   ]
  },
  {
   "cell_type": "code",
   "execution_count": 14,
   "metadata": {},
   "outputs": [
    {
     "name": "stdout",
     "output_type": "stream",
     "text": [
      "True\n"
     ]
    }
   ],
   "source": [
    "import nomenclature as nc\n",
    "c = nc.validate(dfNetwork_IAMC)\n",
    "print(c)"
   ]
  },
  {
   "cell_type": "code",
   "execution_count": null,
   "metadata": {},
   "outputs": [],
   "source": []
  }
 ],
 "metadata": {
  "kernelspec": {
   "display_name": "Python 3",
   "language": "python",
   "name": "python3"
  },
  "language_info": {
   "codemirror_mode": {
    "name": "ipython",
    "version": 3
   },
   "file_extension": ".py",
   "mimetype": "text/x-python",
   "name": "python",
   "nbconvert_exporter": "python",
   "pygments_lexer": "ipython3",
   "version": "3.7.7"
  }
 },
 "nbformat": 4,
 "nbformat_minor": 4
}
